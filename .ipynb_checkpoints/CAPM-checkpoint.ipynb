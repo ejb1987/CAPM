{
 "cells": [
  {
   "cell_type": "code",
   "execution_count": 1,
   "id": "e67708df",
   "metadata": {},
   "outputs": [],
   "source": [
    "#%pip install yfinance pandas numpy scipy python-dateutil\n",
    "\n",
    "import yfinance as yf\n",
    "import pandas as pd\n",
    "import numpy as np\n",
    "from datetime import datetime\n",
    "from dateutil.relativedelta import relativedelta\n",
    "import mplfinance as mpf\n",
    "import pandas as pd\n",
    "from scipy.stats import linregress"
   ]
  },
  {
   "cell_type": "code",
   "execution_count": 16,
   "id": "bc56ad1c",
   "metadata": {},
   "outputs": [],
   "source": [
    "def get_stock_data(ticker, start_date, end_date):\n",
    "    stock = yf.Ticker(ticker)\n",
    "    df = stock.history(start=start_date, end=end_date)\n",
    "    return df['Close']\n",
    "\n",
    "def calculate_returns(prices):\n",
    "    returns = prices.pct_change().dropna()\n",
    "    return returns\n",
    "\n",
    "def calculate_alpha_beta(stock_returns, market_returns):\n",
    "    slope, intercept, r_value, p_value, std_err = linregress(market_returns, stock_returns)\n",
    "    return intercept, slope\n",
    "\n",
    "def get_risk_free_rate(start_date, end_date, stock_ticker):\n",
    "    if stock_ticker.endswith(\".L\"):\n",
    "        rf_ticker = \"^IRX\"  # UK 3-Month Treasury Bill\n",
    "    else:\n",
    "        rf_ticker = \"^TNX\"  # US 10-Year Treasury Note\n",
    "\n",
    "    rf = yf.Ticker(rf_ticker)\n",
    "    rf_data = rf.history(start=start_date, end=end_date)\n",
    "    \n",
    "    if rf_ticker == \"^IRX\":\n",
    "        # IRX is in percentage terms, so divide by 100, then annualize by dividing by 12 (monthly rate)\n",
    "        rf_data['Daily Rate'] = rf_data['Close'] / 100 / 252\n",
    "    else:\n",
    "        # TNX is in percentage terms, so divide by 100, then annualize by dividing by 252 (daily rate)\n",
    "        rf_data['Daily Rate'] = rf_data['Close'] / 100 / 252\n",
    "    \n",
    "    return rf_data['Daily Rate']\n",
    "\n",
    "def get_market_index(stock_ticker):\n",
    "    if stock_ticker.endswith(\".L\"):\n",
    "        return \"^FTSE\"\n",
    "    else:\n",
    "        return \"^GSPC\""
   ]
  },
  {
   "cell_type": "code",
   "execution_count": 17,
   "id": "230721a3",
   "metadata": {},
   "outputs": [
    {
     "name": "stdout",
     "output_type": "stream",
     "text": [
      "Enter the stock ticker symbol: AZN.L\n",
      "Enter the end date (YYYYMMDD): 20240725\n",
      "Enter the number of years: 2\n"
     ]
    }
   ],
   "source": [
    "# User input\n",
    "ticker = input(\"Enter the stock ticker symbol: \")\n",
    "market_index = '^GSPC'  # S&P 500 index\n",
    "end_date = input(\"Enter the end date (YYYYMMDD): \")\n",
    "years = int(input(\"Enter the number of years: \"))"
   ]
  },
  {
   "cell_type": "code",
   "execution_count": 19,
   "id": "c1ab4318",
   "metadata": {},
   "outputs": [
    {
     "name": "stdout",
     "output_type": "stream",
     "text": [
      "\n",
      "Combined Data (with aligned dates):\n",
      "            Stock Returns  Market Returns  Risk-Free Rate\n",
      "2022-07-26       0.019426        0.000000        0.000098\n",
      "2022-07-27      -0.005263        0.005735        0.000095\n",
      "2022-07-28      -0.008393       -0.000395        0.000092\n",
      "2022-07-29      -0.002392        0.010633        0.000091\n",
      "2022-08-01      -0.012542       -0.001347        0.000090\n",
      "The CAPM regression equation for AZN.L is:\n",
      "Excess Stock Return (ri - rf) = 0.000097 + 0.884468 * Excess Market Return (rm - rf)\n"
     ]
    }
   ],
   "source": [
    "try:\n",
    "    end = datetime.strptime(end_date, \"%Y%m%d\")\n",
    "    start = end - relativedelta(years=years)\n",
    "except ValueError:\n",
    "    print(\"Invalid date format. Please use YYYYMMDD.\")\n",
    "else:\n",
    "    start_date_yf = start.strftime(\"%Y-%m-%d\")\n",
    "    end_date_yf = end.strftime(\"%Y-%m-%d\")\n",
    "\n",
    "    # Fetch stock data\n",
    "    stock_prices = get_stock_data(ticker, start_date_yf, end_date_yf)\n",
    "    \n",
    "    # Determine and fetch market index data\n",
    "    market_index = get_market_index(ticker)\n",
    "    market_prices = get_stock_data(market_index, start_date_yf, end_date_yf)\n",
    "    \n",
    "    # Fetch risk-free rate data\n",
    "    rf_data = get_risk_free_rate(start_date_yf, end_date_yf, ticker)\n",
    "\n",
    "    # Calculate returns\n",
    "    stock_returns = calculate_returns(stock_prices)\n",
    "    market_returns = calculate_returns(market_prices)\n",
    "\n",
    "    # Remove time component from index\n",
    "    stock_returns.index = stock_returns.index.date\n",
    "    market_returns.index = market_returns.index.date\n",
    "    rf_data.index = rf_data.index.date\n",
    "\n",
    "    # Create a DataFrame to hold all the data with a common date index\n",
    "    combined_data = pd.DataFrame(index=stock_returns.index)\n",
    "    combined_data['Stock Returns'] = stock_returns\n",
    "    combined_data['Market Returns'] = market_returns\n",
    "    combined_data['Risk-Free Rate'] = rf_data.reindex(combined_data.index)\n",
    "\n",
    "    # Print combined data to debug alignment\n",
    "    print(\"\\nCombined Data (with aligned dates):\")\n",
    "    print(combined_data.head())\n",
    "\n",
    "    # Drop rows with any NaN values\n",
    "    combined_data = combined_data.dropna()\n",
    "\n",
    "    if combined_data.empty:\n",
    "        print(\"No overlapping data between stock returns, market returns, and risk-free rate.\")\n",
    "    else:\n",
    "        # Adjust returns by the risk-free rate\n",
    "        excess_stock_returns = combined_data['Stock Returns'] - combined_data['Risk-Free Rate']\n",
    "        excess_market_returns = combined_data['Market Returns'] - combined_data['Risk-Free Rate']\n",
    "\n",
    "        # Calculate alpha and beta\n",
    "        alpha, beta = calculate_alpha_beta(excess_stock_returns, excess_market_returns)\n",
    "        \n",
    "        print(f\"The CAPM regression equation for {ticker} is:\")\n",
    "        print(f\"Excess Stock Return (ri - rf) = {alpha:.4f} + {beta:.4f} * Excess Market Return (rm - rf)\")"
   ]
  },
  {
   "cell_type": "code",
   "execution_count": 15,
   "id": "4ec1f2d7",
   "metadata": {},
   "outputs": [
    {
     "name": "stdout",
     "output_type": "stream",
     "text": [
      "\n",
      "Average Annual Return for AZN.L: 10.62%\n",
      "Annual Variance for AZN.L: 4.66%\n",
      "\n",
      "Average Annual Return for ^FTSE: 6.09%\n",
      "Annual Variance for ^FTSE: 1.21%\n"
     ]
    }
   ],
   "source": [
    "import numpy as np\n",
    "\n",
    "def calculate_annual_metrics(daily_returns):\n",
    "    average_annual_return = np.mean(daily_returns) * 252\n",
    "    annual_variance = np.var(daily_returns) * 252\n",
    "    return average_annual_return, annual_variance\n",
    "\n",
    "# Calculate annual metrics for the stock\n",
    "stock_annual_return, stock_annual_variance = calculate_annual_metrics(stock_returns)\n",
    "\n",
    "# Calculate annual metrics for the market index\n",
    "market_annual_return, market_annual_variance = calculate_annual_metrics(market_returns)\n",
    "\n",
    "# Print the results\n",
    "print(f\"\\nAverage Annual Return for {ticker}: {stock_annual_return:.2%}\")\n",
    "print(f\"Annual Variance for {ticker}: {stock_annual_variance:.2%}\")\n",
    "\n",
    "print(f\"\\nAverage Annual Return for {market_index}: {market_annual_return:.2%}\")\n",
    "print(f\"Annual Variance for {market_index}: {market_annual_variance:.2%}\")\n"
   ]
  },
  {
   "cell_type": "code",
   "execution_count": null,
   "id": "99eee72a",
   "metadata": {},
   "outputs": [],
   "source": []
  }
 ],
 "metadata": {
  "kernelspec": {
   "display_name": "Python 3 (ipykernel)",
   "language": "python",
   "name": "python3"
  },
  "language_info": {
   "codemirror_mode": {
    "name": "ipython",
    "version": 3
   },
   "file_extension": ".py",
   "mimetype": "text/x-python",
   "name": "python",
   "nbconvert_exporter": "python",
   "pygments_lexer": "ipython3",
   "version": "3.11.5"
  }
 },
 "nbformat": 4,
 "nbformat_minor": 5
}
